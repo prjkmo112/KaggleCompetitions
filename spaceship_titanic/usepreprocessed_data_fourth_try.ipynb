{
 "cells": [
  {
   "cell_type": "markdown",
   "metadata": {},
   "source": [
    "# Spaceship Titanic\n",
    "\n",
    "- 세번째 시도\n",
    "    - Tfdf decision_forest에서 지원하는 모델 모두 써보기"
   ]
  },
  {
   "cell_type": "markdown",
   "metadata": {
    "vscode": {
     "languageId": "plaintext"
    }
   },
   "source": [
    "## Import Modules"
   ]
  },
  {
   "cell_type": "code",
   "execution_count": 1,
   "metadata": {},
   "outputs": [
    {
     "name": "stderr",
     "output_type": "stream",
     "text": [
      "2024-01-10 13:33:25.037001: I tensorflow/core/util/port.cc:113] oneDNN custom operations are on. You may see slightly different numerical results due to floating-point round-off errors from different computation orders. To turn them off, set the environment variable `TF_ENABLE_ONEDNN_OPTS=0`.\n",
      "2024-01-10 13:33:25.062187: E external/local_xla/xla/stream_executor/cuda/cuda_dnn.cc:9261] Unable to register cuDNN factory: Attempting to register factory for plugin cuDNN when one has already been registered\n",
      "2024-01-10 13:33:25.062215: E external/local_xla/xla/stream_executor/cuda/cuda_fft.cc:607] Unable to register cuFFT factory: Attempting to register factory for plugin cuFFT when one has already been registered\n",
      "2024-01-10 13:33:25.062789: E external/local_xla/xla/stream_executor/cuda/cuda_blas.cc:1515] Unable to register cuBLAS factory: Attempting to register factory for plugin cuBLAS when one has already been registered\n",
      "2024-01-10 13:33:25.067752: I tensorflow/core/platform/cpu_feature_guard.cc:182] This TensorFlow binary is optimized to use available CPU instructions in performance-critical operations.\n",
      "To enable the following instructions: AVX2 AVX512F AVX512_VNNI FMA, in other operations, rebuild TensorFlow with the appropriate compiler flags.\n",
      "2024-01-10 13:33:25.623730: W tensorflow/compiler/tf2tensorrt/utils/py_utils.cc:38] TF-TRT Warning: Could not find TensorRT\n"
     ]
    }
   ],
   "source": [
    "import os\n",
    "import sys\n",
    "from datetime import datetime\n",
    "from zipfile import ZipFile\n",
    "from io import BytesIO\n",
    "import numpy as np\n",
    "import pandas as pd\n",
    "import matplotlib.pyplot as plt\n",
    "import seaborn as sns\n",
    "import pickle\n",
    "\n",
    "import tensorflow as tf\n",
    "import tensorflow_decision_forests as tfdf"
   ]
  },
  {
   "cell_type": "code",
   "execution_count": 2,
   "metadata": {},
   "outputs": [
    {
     "name": "stderr",
     "output_type": "stream",
     "text": [
      "2024-01-10 13:33:26.181987: I external/local_xla/xla/stream_executor/cuda/cuda_executor.cc:887] could not open file to read NUMA node: /sys/bus/pci/devices/0000:01:00.0/numa_node\n",
      "Your kernel may have been built without NUMA support.\n",
      "2024-01-10 13:33:26.213955: I external/local_xla/xla/stream_executor/cuda/cuda_executor.cc:887] could not open file to read NUMA node: /sys/bus/pci/devices/0000:01:00.0/numa_node\n",
      "Your kernel may have been built without NUMA support.\n",
      "2024-01-10 13:33:26.214000: I external/local_xla/xla/stream_executor/cuda/cuda_executor.cc:887] could not open file to read NUMA node: /sys/bus/pci/devices/0000:01:00.0/numa_node\n",
      "Your kernel may have been built without NUMA support.\n"
     ]
    },
    {
     "data": {
      "text/plain": [
       "[PhysicalDevice(name='/physical_device:CPU:0', device_type='CPU'),\n",
       " PhysicalDevice(name='/physical_device:GPU:0', device_type='GPU')]"
      ]
     },
     "execution_count": 2,
     "metadata": {},
     "output_type": "execute_result"
    }
   ],
   "source": [
    "tf.config.list_physical_devices()"
   ]
  },
  {
   "cell_type": "code",
   "execution_count": 3,
   "metadata": {},
   "outputs": [
    {
     "name": "stderr",
     "output_type": "stream",
     "text": [
      "2024-01-10 13:33:26.237505: I external/local_xla/xla/stream_executor/cuda/cuda_executor.cc:887] could not open file to read NUMA node: /sys/bus/pci/devices/0000:01:00.0/numa_node\n",
      "Your kernel may have been built without NUMA support.\n",
      "2024-01-10 13:33:26.237616: I external/local_xla/xla/stream_executor/cuda/cuda_executor.cc:887] could not open file to read NUMA node: /sys/bus/pci/devices/0000:01:00.0/numa_node\n",
      "Your kernel may have been built without NUMA support.\n",
      "2024-01-10 13:33:26.237669: I external/local_xla/xla/stream_executor/cuda/cuda_executor.cc:887] could not open file to read NUMA node: /sys/bus/pci/devices/0000:01:00.0/numa_node\n",
      "Your kernel may have been built without NUMA support.\n",
      "2024-01-10 13:33:27.249983: I external/local_xla/xla/stream_executor/cuda/cuda_executor.cc:887] could not open file to read NUMA node: /sys/bus/pci/devices/0000:01:00.0/numa_node\n",
      "Your kernel may have been built without NUMA support.\n",
      "2024-01-10 13:33:27.250140: I external/local_xla/xla/stream_executor/cuda/cuda_executor.cc:887] could not open file to read NUMA node: /sys/bus/pci/devices/0000:01:00.0/numa_node\n",
      "Your kernel may have been built without NUMA support.\n",
      "2024-01-10 13:33:27.250154: I tensorflow/core/common_runtime/gpu/gpu_device.cc:2022] Could not identify NUMA node of platform GPU id 0, defaulting to 0.  Your kernel may not have been built with NUMA support.\n",
      "2024-01-10 13:33:27.250216: I external/local_xla/xla/stream_executor/cuda/cuda_executor.cc:887] could not open file to read NUMA node: /sys/bus/pci/devices/0000:01:00.0/numa_node\n",
      "Your kernel may have been built without NUMA support.\n",
      "2024-01-10 13:33:27.250238: I tensorflow/core/common_runtime/gpu/gpu_device.cc:1929] Created device /device:GPU:0 with 9362 MB memory:  -> device: 0, name: NVIDIA GeForce RTX 3080 Ti, pci bus id: 0000:01:00.0, compute capability: 8.6\n"
     ]
    },
    {
     "data": {
      "text/plain": [
       "[name: \"/device:CPU:0\"\n",
       " device_type: \"CPU\"\n",
       " memory_limit: 268435456\n",
       " locality {\n",
       " }\n",
       " incarnation: 14150727187746324346\n",
       " xla_global_id: -1,\n",
       " name: \"/device:GPU:0\"\n",
       " device_type: \"GPU\"\n",
       " memory_limit: 9816768512\n",
       " locality {\n",
       "   bus_id: 1\n",
       "   links {\n",
       "   }\n",
       " }\n",
       " incarnation: 12433951663232631444\n",
       " physical_device_desc: \"device: 0, name: NVIDIA GeForce RTX 3080 Ti, pci bus id: 0000:01:00.0, compute capability: 8.6\"\n",
       " xla_global_id: 416903419]"
      ]
     },
     "execution_count": 3,
     "metadata": {},
     "output_type": "execute_result"
    }
   ],
   "source": [
    "from tensorflow.python.client import device_lib\n",
    "device_lib.list_local_devices()"
   ]
  },
  {
   "cell_type": "markdown",
   "metadata": {},
   "source": [
    "## Set envs"
   ]
  },
  {
   "cell_type": "code",
   "execution_count": 4,
   "metadata": {},
   "outputs": [],
   "source": [
    "PATH_INPUT = './data/in/'\n",
    "PATH_OUTPUT = './data/out/'\n",
    "NOW_STR = datetime.now().strftime('%Y%m%d_%H%M%S')\n",
    "PATH_OUTPUT_NOW = f'./data/out/{NOW_STR}/'\n",
    "\n",
    "try:\n",
    "    os.environ[\"CUDA_VISIBLE_DEVICES\"] = \"0\"\n",
    "    gpus = tf.config.list_physical_devices('GPU')\n",
    "    tf.config.experimental.set_memory_growth(device=gpus[0], enable=True)\n",
    "    tf.config.set_logical_device_configuration(\n",
    "        gpus[0],\n",
    "        [tf.config.LogicalDeviceConfiguration(memory_limit=1024)]\n",
    "    )\n",
    "except:\n",
    "    print(\"NO GPU\")"
   ]
  },
  {
   "cell_type": "markdown",
   "metadata": {},
   "source": [
    "## Get Data"
   ]
  },
  {
   "cell_type": "code",
   "execution_count": 5,
   "metadata": {},
   "outputs": [],
   "source": [
    "df_train = pd.read_csv('./data/out/preprocessed_data/train_int.csv')\n",
    "df_test = pd.read_csv('./data/out/preprocessed_data/test_int.csv')"
   ]
  },
  {
   "cell_type": "markdown",
   "metadata": {},
   "source": [
    "## Train"
   ]
  },
  {
   "cell_type": "markdown",
   "metadata": {},
   "source": [
    "### Set Input data"
   ]
  },
  {
   "cell_type": "code",
   "execution_count": 6,
   "metadata": {},
   "outputs": [
    {
     "name": "stderr",
     "output_type": "stream",
     "text": [
      "2024-01-10 13:33:27.336617: I external/local_xla/xla/stream_executor/cuda/cuda_executor.cc:887] could not open file to read NUMA node: /sys/bus/pci/devices/0000:01:00.0/numa_node\n",
      "Your kernel may have been built without NUMA support.\n",
      "2024-01-10 13:33:27.336773: I external/local_xla/xla/stream_executor/cuda/cuda_executor.cc:887] could not open file to read NUMA node: /sys/bus/pci/devices/0000:01:00.0/numa_node\n",
      "Your kernel may have been built without NUMA support.\n",
      "2024-01-10 13:33:27.336807: I external/local_xla/xla/stream_executor/cuda/cuda_executor.cc:887] could not open file to read NUMA node: /sys/bus/pci/devices/0000:01:00.0/numa_node\n",
      "Your kernel may have been built without NUMA support.\n",
      "2024-01-10 13:33:27.336861: I external/local_xla/xla/stream_executor/cuda/cuda_executor.cc:887] could not open file to read NUMA node: /sys/bus/pci/devices/0000:01:00.0/numa_node\n",
      "Your kernel may have been built without NUMA support.\n",
      "2024-01-10 13:33:27.336867: I tensorflow/core/common_runtime/gpu/gpu_device.cc:2022] Could not identify NUMA node of platform GPU id 0, defaulting to 0.  Your kernel may not have been built with NUMA support.\n",
      "2024-01-10 13:33:27.336894: I external/local_xla/xla/stream_executor/cuda/cuda_executor.cc:887] could not open file to read NUMA node: /sys/bus/pci/devices/0000:01:00.0/numa_node\n",
      "Your kernel may have been built without NUMA support.\n",
      "2024-01-10 13:33:27.336906: I tensorflow/core/common_runtime/gpu/gpu_device.cc:1929] Created device /job:localhost/replica:0/task:0/device:GPU:0 with 9362 MB memory:  -> device: 0, name: NVIDIA GeForce RTX 3080 Ti, pci bus id: 0000:01:00.0, compute capability: 8.6\n"
     ]
    }
   ],
   "source": [
    "exception_cols = ['PassengerId', 'Name']\n",
    "independents = [ i for i in df_train.keys() if i not in exception_cols ]\n",
    "# 'CryoSleep', 'Cabin', 'Age', 'VIP', 'RoomService', 'FoodCourt', 'ShoppingMall', 'Spa', 'VRDeck', 'HomePlanet_Earth', 'HomePlanet_Europa', 'HomePlanet_Mars', 'Destination_55 Cancri e', 'Destination_PSO J318.5-22', 'Destination_TRAPPIST-1e'\n",
    "\n",
    "X = df_train[independents]\n",
    "\n",
    "X_tf_dataset = tfdf.keras.pd_dataframe_to_tf_dataset(X, label=\"Transported\")"
   ]
  },
  {
   "cell_type": "code",
   "execution_count": 7,
   "metadata": {},
   "outputs": [
    {
     "data": {
      "text/plain": [
       "['CryoSleep',\n",
       " 'Destination',\n",
       " 'Age',\n",
       " 'VIP',\n",
       " 'RoomService',\n",
       " 'FoodCourt',\n",
       " 'ShoppingMall',\n",
       " 'Spa',\n",
       " 'VRDeck',\n",
       " 'Transported',\n",
       " 'Cabin_Deck',\n",
       " 'Cabin_Num',\n",
       " 'Cabin_Side',\n",
       " 'HomePlanet_Earth',\n",
       " 'HomePlanet_Europa',\n",
       " 'HomePlanet_Mars']"
      ]
     },
     "execution_count": 7,
     "metadata": {},
     "output_type": "execute_result"
    }
   ],
   "source": [
    "independents"
   ]
  },
  {
   "cell_type": "code",
   "execution_count": 8,
   "metadata": {},
   "outputs": [
    {
     "data": {
      "text/plain": [
       "(8693, 16)"
      ]
     },
     "execution_count": 8,
     "metadata": {},
     "output_type": "execute_result"
    }
   ],
   "source": [
    "X.shape"
   ]
  },
  {
   "cell_type": "markdown",
   "metadata": {},
   "source": [
    "### Check available all models"
   ]
  },
  {
   "cell_type": "code",
   "execution_count": 9,
   "metadata": {},
   "outputs": [
    {
     "data": {
      "text/plain": [
       "[tensorflow_decision_forests.keras.RandomForestModel,\n",
       " tensorflow_decision_forests.keras.GradientBoostedTreesModel,\n",
       " tensorflow_decision_forests.keras.CartModel,\n",
       " tensorflow_decision_forests.keras.DistributedGradientBoostedTreesModel]"
      ]
     },
     "execution_count": 9,
     "metadata": {},
     "output_type": "execute_result"
    }
   ],
   "source": [
    "tfdf.keras.get_all_models()"
   ]
  },
  {
   "cell_type": "markdown",
   "metadata": {},
   "source": [
    "### Definition Function Using,Fitting,Predicting models"
   ]
  },
  {
   "cell_type": "code",
   "execution_count": 10,
   "metadata": {},
   "outputs": [],
   "source": [
    "def process_model(model, model_name):\n",
    "    global df_test, X_tf_dataset, X_test_tf_dataset\n",
    "    global independents\n",
    "\n",
    "    print(f'{model_name} 학습 시작')\n",
    "    \n",
    "    # build\n",
    "    model.compile(metrics=['accuray'])\n",
    "\n",
    "    # fit\n",
    "    model.fit(X_tf_dataset, verbose=1)\n",
    "\n",
    "    # visualize\n",
    "    path_out_plot = os.path.join(PATH_OUTPUT_NOW, \"monitor\")\n",
    "    if not os.path.exists(path_out_plot):\n",
    "        os.makedirs(path_out_plot)\n",
    "\n",
    "    path_out_plot = os.path.join(path_out_plot, f\"{model_name}_model_plot.html\")\n",
    "\n",
    "    # vscode - jupyter 경우 사진이 안보임 -> 로컬에 저장. Colab일 경우 보여줌\n",
    "    if 'vscode' in os.environ['PATH'] and 'google.colab' not in list(sys.modules.keys()):\n",
    "        with open(path_out_plot, \"w\") as f:\n",
    "            f.write(tfdf.model_plotter.plot_model(model, tree_idx=0, max_depth=3))\n",
    "    else:\n",
    "        tfdf.model_plotter.plot_model_in_colab(model, tree_idx=0, max_depth=3)\n",
    "\n",
    "    # validation\n",
    "    # logs\n",
    "    logs = model.make_inspector().training_logs()\n",
    "    if logs is not None:\n",
    "        plt.plot([ log.num_trees for log in logs ], [ log.evaluation.accuracy for log in logs ])\n",
    "        plt.xlabel(\"Number of Trees\")\n",
    "        plt.ylabel(\"Accuracy (out-of-bag)\")\n",
    "        plt.show()\n",
    "\n",
    "    inspector = model.make_inspector()\n",
    "    inspector.evaluation()\n",
    "\n",
    "    print(f\"Available variable importances: {inspector.variable_importances().keys()}\")\n",
    "\n",
    "    print(inspector.variable_importances()[\"NUM_AS_ROOT\"])\n",
    "\n",
    "    # save model\n",
    "    if not os.path.exists(os.path.join(PATH_OUTPUT_NOW, \"models\")):\n",
    "        os.makedirs(os.path.join(PATH_OUTPUT_NOW, \"models\"))\n",
    "    with open(os.path.join(PATH_OUTPUT_NOW, \"models\", f\"model_{model_name}.pkl\"), \"wb\") as f:\n",
    "        pickle.dump(model, f)\n",
    "\n",
    "    # predict\n",
    "    predictions = model.predict(X_test_tf_dataset)\n",
    "    predictions = map(lambda v: True if v[0] > 0.5 else False, predictions)\n",
    "    predictions = list(predictions)\n",
    "\n",
    "    # Export predictions to csv file\n",
    "    output = pd.DataFrame({ \"PassengerId\": df_test['PassengerId'].to_list(), \"Transported\": predictions })\n",
    "    output_dir = os.path.join(PATH_OUTPUT_NOW, \"predict\")\n",
    "    if not os.path.exists(output_dir):\n",
    "        os.makedirs(output_dir)\n",
    "\n",
    "    output.to_csv(os.path.join(output_dir, f'predict_tfdf_{model_name}.csv'), index=False)"
   ]
  },
  {
   "cell_type": "code",
   "execution_count": 11,
   "metadata": {},
   "outputs": [],
   "source": [
    "# change dataframe to tf_dataset\n",
    "independents = [i for i in independents if i != 'Transported']\n",
    "X_test = df_test[independents]\n",
    "X_test_tf_dataset = tfdf.keras.pd_dataframe_to_tf_dataset(X_test)"
   ]
  },
  {
   "cell_type": "code",
   "execution_count": 12,
   "metadata": {},
   "outputs": [
    {
     "data": {
      "text/plain": [
       "PassengerId          0\n",
       "CryoSleep            0\n",
       "Destination          0\n",
       "Age                  0\n",
       "VIP                  0\n",
       "RoomService          0\n",
       "FoodCourt            0\n",
       "ShoppingMall         0\n",
       "Spa                  0\n",
       "VRDeck               0\n",
       "Cabin_Deck           0\n",
       "Cabin_Num            0\n",
       "Cabin_Side           0\n",
       "HomePlanet_Earth     0\n",
       "HomePlanet_Europa    0\n",
       "HomePlanet_Mars      0\n",
       "dtype: int64"
      ]
     },
     "execution_count": 12,
     "metadata": {},
     "output_type": "execute_result"
    }
   ],
   "source": [
    "df_test.isnull().sum()"
   ]
  },
  {
   "cell_type": "markdown",
   "metadata": {},
   "source": [
    "### Use above function"
   ]
  },
  {
   "cell_type": "code",
   "execution_count": 13,
   "metadata": {},
   "outputs": [
    {
     "name": "stdout",
     "output_type": "stream",
     "text": [
      "Use /tmp/tmpycgrs0r0 as temporary training directory\n",
      "RandomForestModel 학습 시작\n",
      "Reading training dataset...\n",
      "Training dataset read in 0:00:02.566910. Found 8693 examples.\n",
      "Training model...\n"
     ]
    },
    {
     "name": "stderr",
     "output_type": "stream",
     "text": [
      "[INFO 24-01-10 13:33:31.5436 KST kernel.cc:1233] Loading model from path /tmp/tmpycgrs0r0/model/ with prefix 5ccf78babdfa4446\n"
     ]
    },
    {
     "name": "stdout",
     "output_type": "stream",
     "text": [
      "Model trained in 0:00:01.051005\n",
      "Compiling model...\n"
     ]
    },
    {
     "name": "stderr",
     "output_type": "stream",
     "text": [
      "[INFO 24-01-10 13:33:31.8123 KST decision_forest.cc:660] Model loaded with 300 root(s), 314894 node(s), and 15 input feature(s).\n",
      "[INFO 24-01-10 13:33:31.8123 KST abstract_model.cc:1344] Engine \"RandomForestOptPred\" built\n",
      "[INFO 24-01-10 13:33:31.8123 KST kernel.cc:1061] Use fast generic engine\n"
     ]
    },
    {
     "name": "stdout",
     "output_type": "stream",
     "text": [
      "Model compiled.\n"
     ]
    },
    {
     "data": {
      "image/png": "[encoded data removed]",
      "text/plain": [
       "<Figure size 640x480 with 1 Axes>"
      ]
     },
     "metadata": {},
     "output_type": "display_data"
    },
    {
     "name": "stdout",
     "output_type": "stream",
     "text": [
      "Available variable importances: dict_keys(['NUM_AS_ROOT', 'INV_MEAN_MIN_DEPTH', 'SUM_SCORE', 'NUM_NODES'])\n",
      "[(\"CryoSleep\" (1; #4), 118.0), (\"RoomService\" (1; #10), 50.0), (\"Spa\" (1; #12), 47.0), (\"VRDeck\" (1; #14), 41.0), (\"ShoppingMall\" (1; #11), 20.0), (\"FoodCourt\" (1; #6), 15.0), (\"Cabin_Deck\" (1; #1), 5.0), (\"HomePlanet_Earth\" (1; #7), 2.0), (\"HomePlanet_Europa\" (1; #8), 2.0)]\n",
      "5/5 [==============================] - 0s 21ms/step\n",
      "Use /tmp/tmpf3ee4afl as temporary training directory\n",
      "GradientBoostedTreesModel 학습 시작\n",
      "Reading training dataset...\n",
      "Training dataset read in 0:00:00.193490. Found 8693 examples.\n",
      "Training model...\n"
     ]
    },
    {
     "name": "stderr",
     "output_type": "stream",
     "text": [
      "[WARNING 24-01-10 13:33:32.8471 KST gradient_boosted_trees.cc:1886] \"goss_alpha\" set but \"sampling_method\" not equal to \"GOSS\".\n",
      "[WARNING 24-01-10 13:33:32.8472 KST gradient_boosted_trees.cc:1897] \"goss_beta\" set but \"sampling_method\" not equal to \"GOSS\".\n",
      "[WARNING 24-01-10 13:33:32.8472 KST gradient_boosted_trees.cc:1911] \"selective_gradient_boosting_ratio\" set but \"sampling_method\" not equal to \"SELGB\".\n"
     ]
    },
    {
     "name": "stdout",
     "output_type": "stream",
     "text": [
      "Model trained in 0:00:00.907055\n",
      "Compiling model...\n",
      "Model compiled.\n"
     ]
    },
    {
     "name": "stderr",
     "output_type": "stream",
     "text": [
      "[INFO 24-01-10 13:33:33.9482 KST kernel.cc:1233] Loading model from path /tmp/tmpf3ee4afl/model/ with prefix 004c345cae6449d6\n",
      "[INFO 24-01-10 13:33:33.9526 KST quick_scorer_extended.cc:903] The binary was compiled without AVX2 support, but your CPU supports it. Enable it for faster model inference.\n",
      "[INFO 24-01-10 13:33:33.9529 KST kernel.cc:1061] Use fast generic engine\n"
     ]
    },
    {
     "data": {
      "image/png": "[encoded data removed]",
      "text/plain": [
       "<Figure size 640x480 with 1 Axes>"
      ]
     },
     "metadata": {},
     "output_type": "display_data"
    },
    {
     "name": "stdout",
     "output_type": "stream",
     "text": [
      "Available variable importances: dict_keys(['INV_MEAN_MIN_DEPTH', 'SUM_SCORE', 'NUM_AS_ROOT', 'NUM_NODES'])\n",
      "[(\"Spa\" (1; #12), 36.0), (\"CryoSleep\" (1; #4), 25.0), (\"VRDeck\" (1; #14), 22.0), (\"Cabin_Side\" (1; #3), 18.0), (\"RoomService\" (1; #10), 6.0), (\"Age\" (1; #0), 5.0), (\"Destination\" (1; #5), 4.0)]\n",
      "5/5 [==============================] - 0s 6ms/step\n",
      "Use /tmp/tmpf7j9tcjr as temporary training directory\n",
      "CartModel 학습 시작\n",
      "Reading training dataset...\n",
      "Training dataset read in 0:00:00.194580. Found 8693 examples.\n",
      "Training model...\n",
      "Model trained in 0:00:00.022111\n",
      "Compiling model...\n",
      "Model compiled.\n",
      "Available variable importances: dict_keys(['NUM_NODES', 'NUM_AS_ROOT', 'SUM_SCORE', 'INV_MEAN_MIN_DEPTH'])\n",
      "[(\"CryoSleep\" (1; #4), 1.0)]\n",
      "WARNING:tensorflow:5 out of the last 13 calls to <function InferenceCoreModel.make_predict_function.<locals>.predict_function_trained at 0x7fe6c81858b0> triggered tf.function retracing. Tracing is expensive and the excessive number of tracings could be due to (1) creating @tf.function repeatedly in a loop, (2) passing tensors with different shapes, (3) passing Python objects instead of tensors. For (1), please define your @tf.function outside of the loop. For (2), @tf.function has reduce_retracing=True option that can avoid unnecessary retracing. For (3), please refer to https://www.tensorflow.org/guide/function#controlling_retracing and https://www.tensorflow.org/api_docs/python/tf/function for  more details.\n"
     ]
    },
    {
     "name": "stderr",
     "output_type": "stream",
     "text": [
      "[INFO 24-01-10 13:33:34.4671 KST kernel.cc:1233] Loading model from path /tmp/tmpf7j9tcjr/model/ with prefix d71d2afcc1a640ce\n",
      "[INFO 24-01-10 13:33:34.4675 KST decision_forest.cc:660] Model loaded with 1 root(s), 155 node(s), and 13 input feature(s).\n",
      "[INFO 24-01-10 13:33:34.4675 KST kernel.cc:1061] Use fast generic engine\n",
      "WARNING:tensorflow:5 out of the last 13 calls to <function InferenceCoreModel.make_predict_function.<locals>.predict_function_trained at 0x7fe6c81858b0> triggered tf.function retracing. Tracing is expensive and the excessive number of tracings could be due to (1) creating @tf.function repeatedly in a loop, (2) passing tensors with different shapes, (3) passing Python objects instead of tensors. For (1), please define your @tf.function outside of the loop. For (2), @tf.function has reduce_retracing=True option that can avoid unnecessary retracing. For (3), please refer to https://www.tensorflow.org/guide/function#controlling_retracing and https://www.tensorflow.org/api_docs/python/tf/function for  more details.\n"
     ]
    },
    {
     "name": "stdout",
     "output_type": "stream",
     "text": [
      "5/5 [==============================] - 0s 4ms/step\n"
     ]
    }
   ],
   "source": [
    "all_models = tfdf.keras.get_all_models()\n",
    "\n",
    "for modelClass in [m for m in all_models if m.__name__ != 'DistributedGradientBoostedTreesModel']:\n",
    "    model = modelClass(verbose=1)\n",
    "    process_model(model, modelClass.__name__)"
   ]
  }
 ],
 "metadata": {
  "kernelspec": {
   "display_name": "tfgpu",
   "language": "python",
   "name": "python3"
  },
  "language_info": {
   "codemirror_mode": {
    "name": "ipython",
    "version": 3
   },
   "file_extension": ".py",
   "mimetype": "text/x-python",
   "name": "python",
   "nbconvert_exporter": "python",
   "pygments_lexer": "ipython3",
   "version": "3.9.18"
  }
 },
 "nbformat": 4,
 "nbformat_minor": 2
}
