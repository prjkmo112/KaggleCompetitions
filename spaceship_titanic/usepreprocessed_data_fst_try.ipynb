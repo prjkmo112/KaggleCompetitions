{
 "cells": [
  {
   "cell_type": "markdown",
   "metadata": {},
   "source": [
    "# Spaceship Titanic\n",
    "\n",
    "- 첫 시도\n",
    "    - tensorflow를 이용해 활성화함수가 `sigmoid`인 `Dense Layer`을 1개 쌓아 모델을 만들고 손실함수는 `binary cross entropy` 함수, optimizer는`adam`를 이용하였음.\n",
    "    - 잘 작동하며 결과도 잘 나왔으나 한계점이 분명함. 하이퍼파라미터를 아무리 변경해보아도 val_accuray 기준 0.7~0.8 이상은 절대 안 올라감. 즉 과소적합등의 문제가 아니라 모델 자체의 한계점으로 보임"
   ]
  },
  {
   "cell_type": "markdown",
   "metadata": {},
   "source": [
    "## Import modules"
   ]
  },
  {
   "cell_type": "code",
   "execution_count": 20,
   "metadata": {},
   "outputs": [],
   "source": [
    "import os\n",
    "from datetime import datetime\n",
    "from zipfile import ZipFile\n",
    "from io import BytesIO\n",
    "import numpy as np\n",
    "import pandas as pd\n",
    "import matplotlib.pyplot as plt\n",
    "import seaborn as sns\n",
    "\n",
    "import tensorflow as tf\n",
    "from tensorflow.keras.layers import Dense, Input\n",
    "from tensorflow.keras.losses import BinaryCrossentropy\n",
    "from tensorflow.keras.callbacks import EarlyStopping, ModelCheckpoint"
   ]
  },
  {
   "cell_type": "markdown",
   "metadata": {},
   "source": [
    "## Set envs"
   ]
  },
  {
   "cell_type": "code",
   "execution_count": 21,
   "metadata": {},
   "outputs": [
    {
     "name": "stdout",
     "output_type": "stream",
     "text": [
      "NO GPU\n"
     ]
    }
   ],
   "source": [
    "PATH_INPUT = './data/in/'\n",
    "PATH_OUTPUT = './data/out/'\n",
    "NOW_STR = datetime.now().strftime('%Y%m%d_%H%M%S')\n",
    "PATH_OUTPUT_NOW = f'./data/out/{NOW_STR}/'\n",
    "\n",
    "try:\n",
    "    os.environ[\"CUDA_VISIBLE_DEVICES\"] = \"0\"\n",
    "    gpus = tf.config.list_physical_devices('GPU')\n",
    "    tf.config.experimental.set_memory_growth(device=gpus[0], enable=True)\n",
    "    tf.config.set_logical_device_configuration(\n",
    "        gpus[0],\n",
    "        [tf.config.LogicalDeviceConfiguration(memory_limit=1024)]\n",
    "    )\n",
    "except:\n",
    "    print(\"NO GPU\")"
   ]
  },
  {
   "cell_type": "markdown",
   "metadata": {},
   "source": [
    "## Get Data"
   ]
  },
  {
   "cell_type": "code",
   "execution_count": 22,
   "metadata": {},
   "outputs": [],
   "source": [
    "df_train = pd.read_csv('./data/out/preprocessed_data/train_int.csv')\n",
    "df_test = pd.read_csv('./data/out/preprocessed_data/test_int.csv')"
   ]
  },
  {
   "cell_type": "markdown",
   "metadata": {},
   "source": [
    "## Train"
   ]
  },
  {
   "cell_type": "markdown",
   "metadata": {},
   "source": [
    "### Set Input data"
   ]
  },
  {
   "cell_type": "code",
   "execution_count": 23,
   "metadata": {},
   "outputs": [],
   "source": [
    "exception_cols = ['PassengerId', 'Name']\n",
    "dependants = ['Transported']\n",
    "independents = [ i for i in df_train.keys() if i not in dependants and i not in exception_cols ]\n",
    "# 'CryoSleep', 'Cabin', 'Age', 'VIP', 'RoomService', 'FoodCourt', 'ShoppingMall', 'Spa', 'VRDeck', 'HomePlanet_Earth', 'HomePlanet_Europa', 'HomePlanet_Mars', 'Destination_55 Cancri e', 'Destination_PSO J318.5-22', 'Destination_TRAPPIST-1e'\n",
    "\n",
    "X = df_train[independents]\n",
    "Y = df_train[dependants]"
   ]
  },
  {
   "cell_type": "code",
   "execution_count": 24,
   "metadata": {},
   "outputs": [
    {
     "data": {
      "text/plain": [
       "((8693, 15), (8693, 1))"
      ]
     },
     "execution_count": 24,
     "metadata": {},
     "output_type": "execute_result"
    }
   ],
   "source": [
    "X.shape, Y.shape"
   ]
  },
  {
   "cell_type": "markdown",
   "metadata": {},
   "source": [
    "### Build model"
   ]
  },
  {
   "cell_type": "code",
   "execution_count": 25,
   "metadata": {},
   "outputs": [],
   "source": [
    "model = tf.keras.Sequential([\n",
    "    Input(shape=[len(independents)]),\n",
    "    Dense(128, activation=\"sigmoid\"),\n",
    "    Dense(64, activation=\"sigmoid\"),\n",
    "    Dense(32, activation=\"sigmoid\"),\n",
    "    Dense(16, activation=\"sigmoid\"),\n",
    "    Dense(len(dependants), activation=\"sigmoid\")\n",
    "])"
   ]
  },
  {
   "cell_type": "code",
   "execution_count": 26,
   "metadata": {},
   "outputs": [
    {
     "name": "stdout",
     "output_type": "stream",
     "text": [
      "Model: \"sequential_1\"\n",
      "_________________________________________________________________\n",
      " Layer (type)                Output Shape              Param #   \n",
      "=================================================================\n",
      " dense_5 (Dense)             (None, 128)               2048      \n",
      "                                                                 \n",
      " dense_6 (Dense)             (None, 64)                8256      \n",
      "                                                                 \n",
      " dense_7 (Dense)             (None, 32)                2080      \n",
      "                                                                 \n",
      " dense_8 (Dense)             (None, 16)                528       \n",
      "                                                                 \n",
      " dense_9 (Dense)             (None, 1)                 17        \n",
      "                                                                 \n",
      "=================================================================\n",
      "Total params: 12929 (50.50 KB)\n",
      "Trainable params: 12929 (50.50 KB)\n",
      "Non-trainable params: 0 (0.00 Byte)\n",
      "_________________________________________________________________\n"
     ]
    }
   ],
   "source": [
    "model.summary()"
   ]
  },
  {
   "cell_type": "code",
   "execution_count": 27,
   "metadata": {},
   "outputs": [],
   "source": [
    "optimizer = tf.keras.optimizers.Adam()\n",
    "\n",
    "model.compile(\n",
    "    loss=BinaryCrossentropy(),\n",
    "    optimizer=optimizer,\n",
    "    metrics=['accuracy']\n",
    ")"
   ]
  },
  {
   "cell_type": "markdown",
   "metadata": {},
   "source": [
    "### Callback Functions"
   ]
  },
  {
   "cell_type": "code",
   "execution_count": 28,
   "metadata": {},
   "outputs": [],
   "source": [
    "cb_earlystopping = EarlyStopping(monitor=\"val_accuracy\", min_delta=0.001, patience=10, start_from_epoch=50)\n",
    "\n",
    "chkpoint_path = f'./data/out/{NOW_STR}/monitor/'\n",
    "if not os.path.exists(chkpoint_path):\n",
    "    os.makedirs(chkpoint_path)\n",
    "\n",
    "chkpoint_path += 'weights.h5'\n",
    "\n",
    "cb_chkpoint = ModelCheckpoint(chkpoint_path, monitor='val_accuracy', verbose=1, save_best_only=True, save_weights_only=True)"
   ]
  },
  {
   "cell_type": "markdown",
   "metadata": {},
   "source": [
    "### Train model"
   ]
  },
  {
   "cell_type": "markdown",
   "metadata": {},
   "source": [
    "#### Set Hyper-parameter"
   ]
  },
  {
   "cell_type": "code",
   "execution_count": 29,
   "metadata": {},
   "outputs": [],
   "source": [
    "hyper_param = {\n",
    "    \"epochs\": 200,\n",
    "    \"batch_size\": 16,\n",
    "    \"validation_split\": 0.1\n",
    "}"
   ]
  },
  {
   "cell_type": "markdown",
   "metadata": {},
   "source": [
    "#### Train"
   ]
  },
  {
   "cell_type": "code",
   "execution_count": 30,
   "metadata": {},
   "outputs": [
    {
     "name": "stdout",
     "output_type": "stream",
     "text": [
      "Epoch 1/200\n",
      "485/489 [============================>.] - ETA: 0s - loss: 0.5360 - accuracy: 0.7577\n",
      "Epoch 1: val_accuracy improved from -inf to 0.77701, saving model to ./data/out/20240110_125949/monitor/weights.h5\n",
      "489/489 [==============================] - 5s 9ms/step - loss: 0.5358 - accuracy: 0.7578 - val_loss: 0.5027 - val_accuracy: 0.7770\n",
      "Epoch 2/200\n",
      "489/489 [==============================] - ETA: 0s - loss: 0.4901 - accuracy: 0.7909\n",
      "Epoch 2: val_accuracy improved from 0.77701 to 0.78161, saving model to ./data/out/20240110_125949/monitor/weights.h5\n",
      "489/489 [==============================] - 4s 9ms/step - loss: 0.4901 - accuracy: 0.7909 - val_loss: 0.5021 - val_accuracy: 0.7816\n",
      "Epoch 3/200\n",
      "489/489 [==============================] - ETA: 0s - loss: 0.4804 - accuracy: 0.7913\n",
      "Epoch 3: val_accuracy did not improve from 0.78161\n",
      "489/489 [==============================] - 4s 8ms/step - loss: 0.4804 - accuracy: 0.7913 - val_loss: 0.4916 - val_accuracy: 0.7805\n",
      "Epoch 4/200\n",
      "482/489 [============================>.] - ETA: 0s - loss: 0.4713 - accuracy: 0.7930\n",
      "Epoch 4: val_accuracy did not improve from 0.78161\n",
      "489/489 [==============================] - 4s 8ms/step - loss: 0.4723 - accuracy: 0.7922 - val_loss: 0.4926 - val_accuracy: 0.7793\n",
      "Epoch 5/200\n",
      "488/489 [============================>.] - ETA: 0s - loss: 0.4658 - accuracy: 0.7930\n",
      "Epoch 5: val_accuracy did not improve from 0.78161\n",
      "489/489 [==============================] - 4s 8ms/step - loss: 0.4660 - accuracy: 0.7929 - val_loss: 0.5016 - val_accuracy: 0.7805\n",
      "Epoch 6/200\n",
      "486/489 [============================>.] - ETA: 0s - loss: 0.4634 - accuracy: 0.7918\n",
      "Epoch 6: val_accuracy did not improve from 0.78161\n",
      "489/489 [==============================] - 4s 8ms/step - loss: 0.4633 - accuracy: 0.7920 - val_loss: 0.5033 - val_accuracy: 0.7759\n",
      "Epoch 7/200\n",
      "487/489 [============================>.] - ETA: 0s - loss: 0.4600 - accuracy: 0.7944\n",
      "Epoch 7: val_accuracy did not improve from 0.78161\n",
      "489/489 [==============================] - 4s 8ms/step - loss: 0.4598 - accuracy: 0.7945 - val_loss: 0.4570 - val_accuracy: 0.7747\n",
      "Epoch 8/200\n",
      "482/489 [============================>.] - ETA: 0s - loss: 0.4548 - accuracy: 0.7906\n",
      "Epoch 8: val_accuracy did not improve from 0.78161\n",
      "489/489 [==============================] - 4s 8ms/step - loss: 0.4543 - accuracy: 0.7906 - val_loss: 0.4749 - val_accuracy: 0.7782\n",
      "Epoch 9/200\n",
      "487/489 [============================>.] - ETA: 0s - loss: 0.4583 - accuracy: 0.7907\n",
      "Epoch 9: val_accuracy did not improve from 0.78161\n",
      "489/489 [==============================] - 4s 8ms/step - loss: 0.4586 - accuracy: 0.7902 - val_loss: 0.4899 - val_accuracy: 0.7805\n",
      "Epoch 10/200\n",
      "482/489 [============================>.] - ETA: 0s - loss: 0.4521 - accuracy: 0.7947\n",
      "Epoch 10: val_accuracy improved from 0.78161 to 0.78391, saving model to ./data/out/20240110_125949/monitor/weights.h5\n",
      "489/489 [==============================] - 4s 8ms/step - loss: 0.4520 - accuracy: 0.7943 - val_loss: 0.5021 - val_accuracy: 0.7839\n",
      "Epoch 11/200\n",
      "487/489 [============================>.] - ETA: 0s - loss: 0.4510 - accuracy: 0.7959\n",
      "Epoch 11: val_accuracy improved from 0.78391 to 0.78506, saving model to ./data/out/20240110_125949/monitor/weights.h5\n",
      "489/489 [==============================] - 4s 8ms/step - loss: 0.4510 - accuracy: 0.7961 - val_loss: 0.5167 - val_accuracy: 0.7851\n",
      "Epoch 12/200\n",
      "488/489 [============================>.] - ETA: 0s - loss: 0.4522 - accuracy: 0.7951\n",
      "Epoch 12: val_accuracy did not improve from 0.78506\n",
      "489/489 [==============================] - 4s 8ms/step - loss: 0.4521 - accuracy: 0.7952 - val_loss: 0.4661 - val_accuracy: 0.7805\n",
      "Epoch 13/200\n",
      "483/489 [============================>.] - ETA: 0s - loss: 0.4496 - accuracy: 0.7977\n",
      "Epoch 13: val_accuracy did not improve from 0.78506\n",
      "489/489 [==============================] - 4s 8ms/step - loss: 0.4497 - accuracy: 0.7978 - val_loss: 0.5147 - val_accuracy: 0.7828\n",
      "Epoch 14/200\n",
      "487/489 [============================>.] - ETA: 0s - loss: 0.4504 - accuracy: 0.7950\n",
      "Epoch 14: val_accuracy did not improve from 0.78506\n",
      "489/489 [==============================] - 4s 8ms/step - loss: 0.4508 - accuracy: 0.7951 - val_loss: 0.4692 - val_accuracy: 0.7816\n",
      "Epoch 15/200\n",
      "483/489 [============================>.] - ETA: 0s - loss: 0.4511 - accuracy: 0.7921\n",
      "Epoch 15: val_accuracy did not improve from 0.78506\n",
      "489/489 [==============================] - 4s 8ms/step - loss: 0.4508 - accuracy: 0.7923 - val_loss: 0.5307 - val_accuracy: 0.7816\n",
      "Epoch 16/200\n",
      "487/489 [============================>.] - ETA: 0s - loss: 0.4482 - accuracy: 0.7941\n",
      "Epoch 16: val_accuracy did not improve from 0.78506\n",
      "489/489 [==============================] - 4s 8ms/step - loss: 0.4475 - accuracy: 0.7947 - val_loss: 0.4789 - val_accuracy: 0.7770\n",
      "Epoch 17/200\n",
      "487/489 [============================>.] - ETA: 0s - loss: 0.4464 - accuracy: 0.7968\n",
      "Epoch 17: val_accuracy did not improve from 0.78506\n",
      "489/489 [==============================] - 4s 8ms/step - loss: 0.4461 - accuracy: 0.7969 - val_loss: 0.5038 - val_accuracy: 0.7759\n",
      "Epoch 18/200\n",
      "482/489 [============================>.] - ETA: 0s - loss: 0.4467 - accuracy: 0.7946\n",
      "Epoch 18: val_accuracy did not improve from 0.78506\n",
      "489/489 [==============================] - 4s 8ms/step - loss: 0.4472 - accuracy: 0.7936 - val_loss: 0.5222 - val_accuracy: 0.7816\n",
      "Epoch 19/200\n",
      "483/489 [============================>.] - ETA: 0s - loss: 0.4493 - accuracy: 0.7989\n",
      "Epoch 19: val_accuracy did not improve from 0.78506\n",
      "489/489 [==============================] - 4s 8ms/step - loss: 0.4487 - accuracy: 0.7993 - val_loss: 0.4670 - val_accuracy: 0.7793\n",
      "Epoch 20/200\n",
      "485/489 [============================>.] - ETA: 0s - loss: 0.4478 - accuracy: 0.7968\n",
      "Epoch 20: val_accuracy did not improve from 0.78506\n",
      "489/489 [==============================] - 4s 8ms/step - loss: 0.4474 - accuracy: 0.7969 - val_loss: 0.4569 - val_accuracy: 0.7805\n",
      "Epoch 21/200\n",
      "484/489 [============================>.] - ETA: 0s - loss: 0.4451 - accuracy: 0.7973\n",
      "Epoch 21: val_accuracy did not improve from 0.78506\n",
      "489/489 [==============================] - 4s 8ms/step - loss: 0.4457 - accuracy: 0.7966 - val_loss: 0.4796 - val_accuracy: 0.7759\n",
      "Epoch 22/200\n",
      "488/489 [============================>.] - ETA: 0s - loss: 0.4441 - accuracy: 0.7946\n",
      "Epoch 22: val_accuracy did not improve from 0.78506\n",
      "489/489 [==============================] - 4s 8ms/step - loss: 0.4441 - accuracy: 0.7946 - val_loss: 0.4539 - val_accuracy: 0.7770\n",
      "Epoch 23/200\n",
      "487/489 [============================>.] - ETA: 0s - loss: 0.4444 - accuracy: 0.7958\n",
      "Epoch 23: val_accuracy improved from 0.78506 to 0.78851, saving model to ./data/out/20240110_125949/monitor/weights.h5\n",
      "489/489 [==============================] - 4s 7ms/step - loss: 0.4443 - accuracy: 0.7959 - val_loss: 0.4700 - val_accuracy: 0.7885\n",
      "Epoch 24/200\n",
      "485/489 [============================>.] - ETA: 0s - loss: 0.4444 - accuracy: 0.7951\n",
      "Epoch 24: val_accuracy did not improve from 0.78851\n",
      "489/489 [==============================] - 3s 7ms/step - loss: 0.4434 - accuracy: 0.7956 - val_loss: 0.4552 - val_accuracy: 0.7828\n",
      "Epoch 25/200\n",
      "484/489 [============================>.] - ETA: 0s - loss: 0.4429 - accuracy: 0.7951\n",
      "Epoch 25: val_accuracy did not improve from 0.78851\n",
      "489/489 [==============================] - 3s 7ms/step - loss: 0.4431 - accuracy: 0.7951 - val_loss: 0.5062 - val_accuracy: 0.7862\n",
      "Epoch 26/200\n",
      "488/489 [============================>.] - ETA: 0s - loss: 0.4394 - accuracy: 0.7957\n",
      "Epoch 26: val_accuracy did not improve from 0.78851\n",
      "489/489 [==============================] - 4s 7ms/step - loss: 0.4393 - accuracy: 0.7957 - val_loss: 0.4736 - val_accuracy: 0.7770\n",
      "Epoch 27/200\n",
      "485/489 [============================>.] - ETA: 0s - loss: 0.4412 - accuracy: 0.7959\n",
      "Epoch 27: val_accuracy did not improve from 0.78851\n",
      "489/489 [==============================] - 3s 7ms/step - loss: 0.4411 - accuracy: 0.7955 - val_loss: 0.4919 - val_accuracy: 0.7770\n",
      "Epoch 28/200\n",
      "483/489 [============================>.] - ETA: 0s - loss: 0.4418 - accuracy: 0.7974\n",
      "Epoch 28: val_accuracy did not improve from 0.78851\n",
      "489/489 [==============================] - 4s 8ms/step - loss: 0.4421 - accuracy: 0.7971 - val_loss: 0.4450 - val_accuracy: 0.7736\n",
      "Epoch 29/200\n",
      "486/489 [============================>.] - ETA: 0s - loss: 0.4390 - accuracy: 0.7950\n",
      "Epoch 29: val_accuracy did not improve from 0.78851\n",
      "489/489 [==============================] - 3s 7ms/step - loss: 0.4388 - accuracy: 0.7951 - val_loss: 0.4492 - val_accuracy: 0.7805\n",
      "Epoch 30/200\n",
      "484/489 [============================>.] - ETA: 0s - loss: 0.4411 - accuracy: 0.7952\n",
      "Epoch 30: val_accuracy did not improve from 0.78851\n",
      "489/489 [==============================] - 3s 7ms/step - loss: 0.4407 - accuracy: 0.7955 - val_loss: 0.4523 - val_accuracy: 0.7793\n",
      "Epoch 31/200\n",
      "485/489 [============================>.] - ETA: 0s - loss: 0.4374 - accuracy: 0.7956\n",
      "Epoch 31: val_accuracy did not improve from 0.78851\n",
      "489/489 [==============================] - 4s 8ms/step - loss: 0.4377 - accuracy: 0.7955 - val_loss: 0.4721 - val_accuracy: 0.7816\n",
      "Epoch 32/200\n",
      "485/489 [============================>.] - ETA: 0s - loss: 0.4395 - accuracy: 0.7942\n",
      "Epoch 32: val_accuracy did not improve from 0.78851\n",
      "489/489 [==============================] - 4s 8ms/step - loss: 0.4393 - accuracy: 0.7946 - val_loss: 0.4884 - val_accuracy: 0.7805\n",
      "Epoch 33/200\n",
      "485/489 [============================>.] - ETA: 0s - loss: 0.4378 - accuracy: 0.7943\n",
      "Epoch 33: val_accuracy did not improve from 0.78851\n",
      "489/489 [==============================] - 4s 8ms/step - loss: 0.4377 - accuracy: 0.7947 - val_loss: 0.4793 - val_accuracy: 0.7839\n",
      "Epoch 34/200\n",
      "484/489 [============================>.] - ETA: 0s - loss: 0.4390 - accuracy: 0.7949\n",
      "Epoch 34: val_accuracy did not improve from 0.78851\n",
      "489/489 [==============================] - 4s 8ms/step - loss: 0.4378 - accuracy: 0.7959 - val_loss: 0.5164 - val_accuracy: 0.7839\n",
      "Epoch 35/200\n",
      "486/489 [============================>.] - ETA: 0s - loss: 0.4390 - accuracy: 0.7963\n",
      "Epoch 35: val_accuracy did not improve from 0.78851\n",
      "489/489 [==============================] - 4s 8ms/step - loss: 0.4389 - accuracy: 0.7965 - val_loss: 0.4896 - val_accuracy: 0.7759\n",
      "Epoch 36/200\n",
      "485/489 [============================>.] - ETA: 0s - loss: 0.4384 - accuracy: 0.7972\n",
      "Epoch 36: val_accuracy did not improve from 0.78851\n",
      "489/489 [==============================] - 4s 8ms/step - loss: 0.4392 - accuracy: 0.7965 - val_loss: 0.4431 - val_accuracy: 0.7759\n",
      "Epoch 37/200\n",
      "483/489 [============================>.] - ETA: 0s - loss: 0.4374 - accuracy: 0.7958\n",
      "Epoch 37: val_accuracy did not improve from 0.78851\n",
      "489/489 [==============================] - 4s 8ms/step - loss: 0.4372 - accuracy: 0.7959 - val_loss: 0.4841 - val_accuracy: 0.7805\n",
      "Epoch 38/200\n",
      "488/489 [============================>.] - ETA: 0s - loss: 0.4377 - accuracy: 0.7941\n",
      "Epoch 38: val_accuracy improved from 0.78851 to 0.78966, saving model to ./data/out/20240110_125949/monitor/weights.h5\n",
      "489/489 [==============================] - 4s 8ms/step - loss: 0.4375 - accuracy: 0.7943 - val_loss: 0.4563 - val_accuracy: 0.7897\n",
      "Epoch 39/200\n",
      "486/489 [============================>.] - ETA: 0s - loss: 0.4358 - accuracy: 0.7984\n",
      "Epoch 39: val_accuracy did not improve from 0.78966\n",
      "489/489 [==============================] - 4s 8ms/step - loss: 0.4357 - accuracy: 0.7980 - val_loss: 0.5239 - val_accuracy: 0.7828\n",
      "Epoch 40/200\n",
      "483/489 [============================>.] - ETA: 0s - loss: 0.4397 - accuracy: 0.7952\n",
      "Epoch 40: val_accuracy did not improve from 0.78966\n",
      "489/489 [==============================] - 4s 8ms/step - loss: 0.4403 - accuracy: 0.7945 - val_loss: 0.4670 - val_accuracy: 0.7782\n",
      "Epoch 41/200\n",
      "484/489 [============================>.] - ETA: 0s - loss: 0.4347 - accuracy: 0.8019\n",
      "Epoch 41: val_accuracy did not improve from 0.78966\n",
      "489/489 [==============================] - 4s 8ms/step - loss: 0.4353 - accuracy: 0.8012 - val_loss: 0.4552 - val_accuracy: 0.7828\n",
      "Epoch 42/200\n",
      "485/489 [============================>.] - ETA: 0s - loss: 0.4366 - accuracy: 0.7994\n",
      "Epoch 42: val_accuracy did not improve from 0.78966\n",
      "489/489 [==============================] - 4s 8ms/step - loss: 0.4369 - accuracy: 0.7992 - val_loss: 0.4446 - val_accuracy: 0.7828\n",
      "Epoch 43/200\n",
      "489/489 [==============================] - ETA: 0s - loss: 0.4374 - accuracy: 0.7964\n",
      "Epoch 43: val_accuracy did not improve from 0.78966\n",
      "489/489 [==============================] - 4s 8ms/step - loss: 0.4374 - accuracy: 0.7964 - val_loss: 0.5032 - val_accuracy: 0.7816\n",
      "Epoch 44/200\n",
      "486/489 [============================>.] - ETA: 0s - loss: 0.4366 - accuracy: 0.7984\n",
      "Epoch 44: val_accuracy did not improve from 0.78966\n",
      "489/489 [==============================] - 4s 8ms/step - loss: 0.4362 - accuracy: 0.7985 - val_loss: 0.4678 - val_accuracy: 0.7828\n",
      "Epoch 45/200\n",
      "486/489 [============================>.] - ETA: 0s - loss: 0.4356 - accuracy: 0.8008\n",
      "Epoch 45: val_accuracy did not improve from 0.78966\n",
      "489/489 [==============================] - 4s 8ms/step - loss: 0.4355 - accuracy: 0.8008 - val_loss: 0.4505 - val_accuracy: 0.7839\n",
      "Epoch 46/200\n",
      "485/489 [============================>.] - ETA: 0s - loss: 0.4319 - accuracy: 0.7965\n",
      "Epoch 46: val_accuracy did not improve from 0.78966\n",
      "489/489 [==============================] - 4s 8ms/step - loss: 0.4328 - accuracy: 0.7961 - val_loss: 0.4624 - val_accuracy: 0.7770\n",
      "Epoch 47/200\n",
      "482/489 [============================>.] - ETA: 0s - loss: 0.4376 - accuracy: 0.7985\n",
      "Epoch 47: val_accuracy did not improve from 0.78966\n",
      "489/489 [==============================] - 4s 8ms/step - loss: 0.4371 - accuracy: 0.7994 - val_loss: 0.4669 - val_accuracy: 0.7816\n",
      "Epoch 48/200\n",
      "483/489 [============================>.] - ETA: 0s - loss: 0.4360 - accuracy: 0.7953\n",
      "Epoch 48: val_accuracy did not improve from 0.78966\n",
      "489/489 [==============================] - 4s 8ms/step - loss: 0.4363 - accuracy: 0.7953 - val_loss: 0.4840 - val_accuracy: 0.7839\n",
      "Epoch 49/200\n",
      "486/489 [============================>.] - ETA: 0s - loss: 0.4338 - accuracy: 0.7989\n",
      "Epoch 49: val_accuracy did not improve from 0.78966\n",
      "489/489 [==============================] - 4s 8ms/step - loss: 0.4334 - accuracy: 0.7989 - val_loss: 0.5198 - val_accuracy: 0.7782\n",
      "Epoch 50/200\n",
      "487/489 [============================>.] - ETA: 0s - loss: 0.4344 - accuracy: 0.7988\n",
      "Epoch 50: val_accuracy did not improve from 0.78966\n",
      "489/489 [==============================] - 4s 8ms/step - loss: 0.4339 - accuracy: 0.7991 - val_loss: 0.4608 - val_accuracy: 0.7839\n",
      "Epoch 51/200\n",
      "482/489 [============================>.] - ETA: 0s - loss: 0.4328 - accuracy: 0.7982\n",
      "Epoch 51: val_accuracy did not improve from 0.78966\n",
      "489/489 [==============================] - 4s 8ms/step - loss: 0.4335 - accuracy: 0.7978 - val_loss: 0.4407 - val_accuracy: 0.7782\n",
      "Epoch 52/200\n",
      "485/489 [============================>.] - ETA: 0s - loss: 0.4342 - accuracy: 0.7992\n",
      "Epoch 52: val_accuracy did not improve from 0.78966\n",
      "489/489 [==============================] - 4s 8ms/step - loss: 0.4345 - accuracy: 0.7988 - val_loss: 0.4677 - val_accuracy: 0.7828\n",
      "Epoch 53/200\n",
      "484/489 [============================>.] - ETA: 0s - loss: 0.4358 - accuracy: 0.7993\n",
      "Epoch 53: val_accuracy did not improve from 0.78966\n",
      "489/489 [==============================] - 4s 8ms/step - loss: 0.4364 - accuracy: 0.7987 - val_loss: 0.4634 - val_accuracy: 0.7828\n",
      "Epoch 54/200\n",
      "485/489 [============================>.] - ETA: 0s - loss: 0.4323 - accuracy: 0.7995\n",
      "Epoch 54: val_accuracy did not improve from 0.78966\n",
      "489/489 [==============================] - 4s 8ms/step - loss: 0.4315 - accuracy: 0.7999 - val_loss: 0.4789 - val_accuracy: 0.7851\n",
      "Epoch 55/200\n",
      "484/489 [============================>.] - ETA: 0s - loss: 0.4299 - accuracy: 0.7987\n",
      "Epoch 55: val_accuracy did not improve from 0.78966\n",
      "489/489 [==============================] - 4s 8ms/step - loss: 0.4303 - accuracy: 0.7983 - val_loss: 0.4424 - val_accuracy: 0.7839\n",
      "Epoch 56/200\n",
      "486/489 [============================>.] - ETA: 0s - loss: 0.4335 - accuracy: 0.7966\n",
      "Epoch 56: val_accuracy did not improve from 0.78966\n",
      "489/489 [==============================] - 4s 8ms/step - loss: 0.4337 - accuracy: 0.7961 - val_loss: 0.4420 - val_accuracy: 0.7828\n",
      "Epoch 57/200\n",
      "489/489 [==============================] - ETA: 0s - loss: 0.4305 - accuracy: 0.7956\n",
      "Epoch 57: val_accuracy did not improve from 0.78966\n",
      "489/489 [==============================] - 4s 8ms/step - loss: 0.4305 - accuracy: 0.7956 - val_loss: 0.4712 - val_accuracy: 0.7862\n",
      "Epoch 58/200\n",
      "485/489 [============================>.] - ETA: 0s - loss: 0.4309 - accuracy: 0.7945\n",
      "Epoch 58: val_accuracy did not improve from 0.78966\n",
      "489/489 [==============================] - 4s 8ms/step - loss: 0.4307 - accuracy: 0.7947 - val_loss: 0.4543 - val_accuracy: 0.7782\n",
      "Epoch 59/200\n",
      "485/489 [============================>.] - ETA: 0s - loss: 0.4303 - accuracy: 0.7988\n",
      "Epoch 59: val_accuracy did not improve from 0.78966\n",
      "489/489 [==============================] - 4s 8ms/step - loss: 0.4303 - accuracy: 0.7985 - val_loss: 0.4828 - val_accuracy: 0.7828\n",
      "Epoch 60/200\n",
      "485/489 [============================>.] - ETA: 0s - loss: 0.4279 - accuracy: 0.8003\n",
      "Epoch 60: val_accuracy did not improve from 0.78966\n",
      "489/489 [==============================] - 4s 8ms/step - loss: 0.4281 - accuracy: 0.8001 - val_loss: 0.4870 - val_accuracy: 0.7805\n",
      "Epoch 61/200\n",
      "487/489 [============================>.] - ETA: 0s - loss: 0.4288 - accuracy: 0.7997\n",
      "Epoch 61: val_accuracy did not improve from 0.78966\n",
      "489/489 [==============================] - 4s 8ms/step - loss: 0.4290 - accuracy: 0.7997 - val_loss: 0.5532 - val_accuracy: 0.7862\n",
      "Epoch 62/200\n",
      "487/489 [============================>.] - ETA: 0s - loss: 0.4293 - accuracy: 0.7976\n",
      "Epoch 62: val_accuracy did not improve from 0.78966\n",
      "489/489 [==============================] - 4s 8ms/step - loss: 0.4294 - accuracy: 0.7974 - val_loss: 0.4596 - val_accuracy: 0.7851\n",
      "Epoch 63/200\n",
      "487/489 [============================>.] - ETA: 0s - loss: 0.4317 - accuracy: 0.7974\n",
      "Epoch 63: val_accuracy did not improve from 0.78966\n",
      "489/489 [==============================] - 4s 8ms/step - loss: 0.4318 - accuracy: 0.7974 - val_loss: 0.4491 - val_accuracy: 0.7851\n",
      "Epoch 64/200\n",
      "483/489 [============================>.] - ETA: 0s - loss: 0.4276 - accuracy: 0.7997\n",
      "Epoch 64: val_accuracy did not improve from 0.78966\n",
      "489/489 [==============================] - 4s 8ms/step - loss: 0.4283 - accuracy: 0.7992 - val_loss: 0.4826 - val_accuracy: 0.7828\n",
      "Epoch 65/200\n",
      "489/489 [==============================] - ETA: 0s - loss: 0.4320 - accuracy: 0.7959\n",
      "Epoch 65: val_accuracy did not improve from 0.78966\n",
      "489/489 [==============================] - 4s 8ms/step - loss: 0.4320 - accuracy: 0.7959 - val_loss: 0.4507 - val_accuracy: 0.7736\n",
      "Epoch 66/200\n",
      "488/489 [============================>.] - ETA: 0s - loss: 0.4276 - accuracy: 0.8007\n",
      "Epoch 66: val_accuracy did not improve from 0.78966\n",
      "489/489 [==============================] - 4s 8ms/step - loss: 0.4277 - accuracy: 0.8005 - val_loss: 0.4865 - val_accuracy: 0.7816\n",
      "Epoch 67/200\n",
      "486/489 [============================>.] - ETA: 0s - loss: 0.4321 - accuracy: 0.7960\n",
      "Epoch 67: val_accuracy did not improve from 0.78966\n",
      "489/489 [==============================] - 4s 8ms/step - loss: 0.4323 - accuracy: 0.7959 - val_loss: 0.4464 - val_accuracy: 0.7874\n",
      "Epoch 68/200\n",
      "484/489 [============================>.] - ETA: 0s - loss: 0.4291 - accuracy: 0.7979\n",
      "Epoch 68: val_accuracy did not improve from 0.78966\n",
      "489/489 [==============================] - 4s 8ms/step - loss: 0.4288 - accuracy: 0.7983 - val_loss: 0.4454 - val_accuracy: 0.7851\n",
      "Epoch 69/200\n",
      "483/489 [============================>.] - ETA: 0s - loss: 0.4294 - accuracy: 0.7989\n",
      "Epoch 69: val_accuracy did not improve from 0.78966\n",
      "489/489 [==============================] - 4s 8ms/step - loss: 0.4299 - accuracy: 0.7988 - val_loss: 0.4748 - val_accuracy: 0.7828\n",
      "Epoch 70/200\n",
      "486/489 [============================>.] - ETA: 0s - loss: 0.4299 - accuracy: 0.7998\n",
      "Epoch 70: val_accuracy did not improve from 0.78966\n",
      "489/489 [==============================] - 4s 8ms/step - loss: 0.4292 - accuracy: 0.8002 - val_loss: 0.4922 - val_accuracy: 0.7839\n",
      "Epoch 71/200\n",
      "485/489 [============================>.] - ETA: 0s - loss: 0.4290 - accuracy: 0.7986\n",
      "Epoch 71: val_accuracy did not improve from 0.78966\n",
      "489/489 [==============================] - 4s 8ms/step - loss: 0.4288 - accuracy: 0.7985 - val_loss: 0.4542 - val_accuracy: 0.7782\n",
      "Epoch 72/200\n",
      "482/489 [============================>.] - ETA: 0s - loss: 0.4322 - accuracy: 0.7958\n",
      "Epoch 72: val_accuracy did not improve from 0.78966\n",
      "489/489 [==============================] - 4s 8ms/step - loss: 0.4322 - accuracy: 0.7956 - val_loss: 0.4727 - val_accuracy: 0.7770\n",
      "Epoch 73/200\n",
      "489/489 [==============================] - ETA: 0s - loss: 0.4345 - accuracy: 0.7997\n",
      "Epoch 73: val_accuracy did not improve from 0.78966\n",
      "489/489 [==============================] - 4s 8ms/step - loss: 0.4345 - accuracy: 0.7997 - val_loss: 0.4469 - val_accuracy: 0.7736\n",
      "Epoch 74/200\n",
      "487/489 [============================>.] - ETA: 0s - loss: 0.4299 - accuracy: 0.7995\n",
      "Epoch 74: val_accuracy did not improve from 0.78966\n",
      "489/489 [==============================] - 4s 7ms/step - loss: 0.4300 - accuracy: 0.7996 - val_loss: 0.4732 - val_accuracy: 0.7793\n",
      "Epoch 75/200\n",
      "487/489 [============================>.] - ETA: 0s - loss: 0.4328 - accuracy: 0.7998\n",
      "Epoch 75: val_accuracy did not improve from 0.78966\n",
      "489/489 [==============================] - 4s 7ms/step - loss: 0.4328 - accuracy: 0.7998 - val_loss: 0.4673 - val_accuracy: 0.7851\n",
      "Epoch 76/200\n",
      "488/489 [============================>.] - ETA: 0s - loss: 0.4275 - accuracy: 0.8005\n",
      "Epoch 76: val_accuracy did not improve from 0.78966\n",
      "489/489 [==============================] - 4s 8ms/step - loss: 0.4273 - accuracy: 0.8005 - val_loss: 0.4911 - val_accuracy: 0.7816\n",
      "Epoch 77/200\n",
      "484/489 [============================>.] - ETA: 0s - loss: 0.4254 - accuracy: 0.7992\n",
      "Epoch 77: val_accuracy did not improve from 0.78966\n",
      "489/489 [==============================] - 4s 8ms/step - loss: 0.4260 - accuracy: 0.7996 - val_loss: 0.4629 - val_accuracy: 0.7851\n"
     ]
    }
   ],
   "source": [
    "history = model.fit(\n",
    "    X,\n",
    "    Y,\n",
    "    epochs=hyper_param['epochs'],\n",
    "    batch_size=hyper_param['batch_size'],\n",
    "    verbose=1,\n",
    "    validation_split=hyper_param['validation_split'],\n",
    "    callbacks=[cb_earlystopping, cb_chkpoint]\n",
    ")"
   ]
  },
  {
   "cell_type": "markdown",
   "metadata": {},
   "source": [
    "## Result"
   ]
  },
  {
   "cell_type": "markdown",
   "metadata": {},
   "source": [
    "### Model history graph"
   ]
  },
  {
   "cell_type": "code",
   "execution_count": 31,
   "metadata": {},
   "outputs": [],
   "source": [
    "def plot_graphs(history, string):\n",
    "    plt.plot(history.history[string])\n",
    "    plt.plot(history.history['val_'+string], '')\n",
    "    plt.xlabel(\"Epochs\")\n",
    "    plt.ylabel(string)\n",
    "    plt.legend([string, 'val_'+string])\n",
    "    plt.show()"
   ]
  },
  {
   "cell_type": "code",
   "execution_count": 32,
   "metadata": {},
   "outputs": [
    {
     "data": {
      "image/png": "[encoded data removed]",
      "text/plain": [
       "<Figure size 640x480 with 1 Axes>"
      ]
     },
     "metadata": {},
     "output_type": "display_data"
    }
   ],
   "source": [
    "plot_graphs(history, 'loss')"
   ]
  },
  {
   "cell_type": "code",
   "execution_count": 33,
   "metadata": {},
   "outputs": [
    {
     "data": {
      "image/png": "[encoded data removed]",
      "text/plain": [
       "<Figure size 640x480 with 1 Axes>"
      ]
     },
     "metadata": {},
     "output_type": "display_data"
    }
   ],
   "source": [
    "plot_graphs(history, 'accuracy')"
   ]
  },
  {
   "cell_type": "markdown",
   "metadata": {},
   "source": [
    "### Save result data"
   ]
  },
  {
   "cell_type": "code",
   "execution_count": 34,
   "metadata": {},
   "outputs": [
    {
     "name": "stderr",
     "output_type": "stream",
     "text": [
      "/home/momo/anaconda3/envs/tfgpu/lib/python3.9/site-packages/keras/src/engine/training.py:3103: UserWarning: You are saving your model as an HDF5 file via `model.save()`. This file format is considered legacy. We recommend using instead the native Keras format, e.g. `model.save('my_model.keras')`.\n",
      "  saving_api.save_model(\n"
     ]
    }
   ],
   "source": [
    "data_out_path = f'./data/out/{NOW_STR}/'\n",
    "\n",
    "if not os.path.exists(data_out_path):\n",
    "    os.makedirs(data_out_path)\n",
    "\n",
    "model.load_weights(os.path.join(data_out_path, \"monitor\", \"weights.h5\"))\n",
    "model.save(os.path.join(data_out_path, \"models\", \"model.h5\"))"
   ]
  },
  {
   "cell_type": "markdown",
   "metadata": {},
   "source": [
    "## Validation"
   ]
  },
  {
   "cell_type": "markdown",
   "metadata": {},
   "source": [
    "### Predict"
   ]
  },
  {
   "cell_type": "code",
   "execution_count": 35,
   "metadata": {},
   "outputs": [
    {
     "data": {
      "text/html": [
       "<div>\n",
       "<style scoped>\n",
       "    .dataframe tbody tr th:only-of-type {\n",
       "        vertical-align: middle;\n",
       "    }\n",
       "\n",
       "    .dataframe tbody tr th {\n",
       "        vertical-align: top;\n",
       "    }\n",
       "\n",
       "    .dataframe thead th {\n",
       "        text-align: right;\n",
       "    }\n",
       "</style>\n",
       "<table border=\"1\" class=\"dataframe\">\n",
       "  <thead>\n",
       "    <tr style=\"text-align: right;\">\n",
       "      <th></th>\n",
       "      <th>PassengerId</th>\n",
       "      <th>CryoSleep</th>\n",
       "      <th>Destination</th>\n",
       "      <th>Age</th>\n",
       "      <th>VIP</th>\n",
       "      <th>RoomService</th>\n",
       "      <th>FoodCourt</th>\n",
       "      <th>ShoppingMall</th>\n",
       "      <th>Spa</th>\n",
       "      <th>VRDeck</th>\n",
       "      <th>Cabin_Deck</th>\n",
       "      <th>Cabin_Num</th>\n",
       "      <th>Cabin_Side</th>\n",
       "      <th>HomePlanet_Earth</th>\n",
       "      <th>HomePlanet_Europa</th>\n",
       "      <th>HomePlanet_Mars</th>\n",
       "    </tr>\n",
       "  </thead>\n",
       "  <tbody>\n",
       "    <tr>\n",
       "      <th>0</th>\n",
       "      <td>0013_01</td>\n",
       "      <td>1</td>\n",
       "      <td>3</td>\n",
       "      <td>27.0</td>\n",
       "      <td>0</td>\n",
       "      <td>0.0</td>\n",
       "      <td>0.0</td>\n",
       "      <td>0.0</td>\n",
       "      <td>0.0</td>\n",
       "      <td>0.0</td>\n",
       "      <td>6</td>\n",
       "      <td>3.0</td>\n",
       "      <td>2</td>\n",
       "      <td>1</td>\n",
       "      <td>0</td>\n",
       "      <td>0</td>\n",
       "    </tr>\n",
       "    <tr>\n",
       "      <th>1</th>\n",
       "      <td>0018_01</td>\n",
       "      <td>0</td>\n",
       "      <td>3</td>\n",
       "      <td>19.0</td>\n",
       "      <td>0</td>\n",
       "      <td>0.0</td>\n",
       "      <td>9.0</td>\n",
       "      <td>0.0</td>\n",
       "      <td>2823.0</td>\n",
       "      <td>0.0</td>\n",
       "      <td>5</td>\n",
       "      <td>4.0</td>\n",
       "      <td>2</td>\n",
       "      <td>1</td>\n",
       "      <td>0</td>\n",
       "      <td>0</td>\n",
       "    </tr>\n",
       "    <tr>\n",
       "      <th>2</th>\n",
       "      <td>0019_01</td>\n",
       "      <td>1</td>\n",
       "      <td>0</td>\n",
       "      <td>31.0</td>\n",
       "      <td>0</td>\n",
       "      <td>0.0</td>\n",
       "      <td>0.0</td>\n",
       "      <td>0.0</td>\n",
       "      <td>0.0</td>\n",
       "      <td>0.0</td>\n",
       "      <td>2</td>\n",
       "      <td>0.0</td>\n",
       "      <td>2</td>\n",
       "      <td>0</td>\n",
       "      <td>1</td>\n",
       "      <td>0</td>\n",
       "    </tr>\n",
       "    <tr>\n",
       "      <th>3</th>\n",
       "      <td>0021_01</td>\n",
       "      <td>0</td>\n",
       "      <td>3</td>\n",
       "      <td>38.0</td>\n",
       "      <td>0</td>\n",
       "      <td>0.0</td>\n",
       "      <td>6652.0</td>\n",
       "      <td>0.0</td>\n",
       "      <td>181.0</td>\n",
       "      <td>585.0</td>\n",
       "      <td>2</td>\n",
       "      <td>1.0</td>\n",
       "      <td>2</td>\n",
       "      <td>0</td>\n",
       "      <td>1</td>\n",
       "      <td>0</td>\n",
       "    </tr>\n",
       "    <tr>\n",
       "      <th>4</th>\n",
       "      <td>0023_01</td>\n",
       "      <td>0</td>\n",
       "      <td>3</td>\n",
       "      <td>20.0</td>\n",
       "      <td>0</td>\n",
       "      <td>10.0</td>\n",
       "      <td>0.0</td>\n",
       "      <td>635.0</td>\n",
       "      <td>0.0</td>\n",
       "      <td>0.0</td>\n",
       "      <td>5</td>\n",
       "      <td>5.0</td>\n",
       "      <td>2</td>\n",
       "      <td>1</td>\n",
       "      <td>0</td>\n",
       "      <td>0</td>\n",
       "    </tr>\n",
       "  </tbody>\n",
       "</table>\n",
       "</div>"
      ],
      "text/plain": [
       "  PassengerId  CryoSleep  Destination   Age  VIP  RoomService  FoodCourt  \\\n",
       "0     0013_01          1            3  27.0    0          0.0        0.0   \n",
       "1     0018_01          0            3  19.0    0          0.0        9.0   \n",
       "2     0019_01          1            0  31.0    0          0.0        0.0   \n",
       "3     0021_01          0            3  38.0    0          0.0     6652.0   \n",
       "4     0023_01          0            3  20.0    0         10.0        0.0   \n",
       "\n",
       "   ShoppingMall     Spa  VRDeck  Cabin_Deck  Cabin_Num  Cabin_Side  \\\n",
       "0           0.0     0.0     0.0           6        3.0           2   \n",
       "1           0.0  2823.0     0.0           5        4.0           2   \n",
       "2           0.0     0.0     0.0           2        0.0           2   \n",
       "3           0.0   181.0   585.0           2        1.0           2   \n",
       "4         635.0     0.0     0.0           5        5.0           2   \n",
       "\n",
       "   HomePlanet_Earth  HomePlanet_Europa  HomePlanet_Mars  \n",
       "0                 1                  0                0  \n",
       "1                 1                  0                0  \n",
       "2                 0                  1                0  \n",
       "3                 0                  1                0  \n",
       "4                 1                  0                0  "
      ]
     },
     "execution_count": 35,
     "metadata": {},
     "output_type": "execute_result"
    }
   ],
   "source": [
    "df_test.head()"
   ]
  },
  {
   "cell_type": "markdown",
   "metadata": {},
   "source": [
    "### Preprocess test data"
   ]
  },
  {
   "cell_type": "code",
   "execution_count": 36,
   "metadata": {},
   "outputs": [
    {
     "name": "stdout",
     "output_type": "stream",
     "text": [
      "268/268 [==============================] - 1s 2ms/step\n"
     ]
    }
   ],
   "source": [
    "predictions = model.predict(df_test[independents], batch_size=hyper_param['batch_size'])"
   ]
  },
  {
   "cell_type": "markdown",
   "metadata": {},
   "source": [
    "#### Export prediction to csv file"
   ]
  },
  {
   "cell_type": "markdown",
   "metadata": {},
   "source": [
    "##### Set Result Data"
   ]
  },
  {
   "cell_type": "code",
   "execution_count": 37,
   "metadata": {},
   "outputs": [],
   "source": [
    "# 1에 가까우면 -> True, 0에 가까우면 False\n",
    "predictions = list(map(lambda v: True if v[0] > 0.5 else False, predictions))"
   ]
  },
  {
   "cell_type": "code",
   "execution_count": 38,
   "metadata": {},
   "outputs": [],
   "source": [
    "output = pd.DataFrame({ \"PassengerId\": df_test['PassengerId'].to_list(), \"Transported\": predictions })\n",
    "output_dir = os.path.join(PATH_OUTPUT_NOW, \"predict\")\n",
    "if not os.path.exists(output_dir):\n",
    "    os.makedirs(output_dir)\n",
    "\n",
    "output.to_csv(os.path.join(output_dir, 'predict.csv'), index=False)"
   ]
  }
 ],
 "metadata": {
  "kernelspec": {
   "display_name": "tfgpu",
   "language": "python",
   "name": "python3"
  },
  "language_info": {
   "codemirror_mode": {
    "name": "ipython",
    "version": 3
   },
   "file_extension": ".py",
   "mimetype": "text/x-python",
   "name": "python",
   "nbconvert_exporter": "python",
   "pygments_lexer": "ipython3",
   "version": "3.9.18"
  }
 },
 "nbformat": 4,
 "nbformat_minor": 2
}
