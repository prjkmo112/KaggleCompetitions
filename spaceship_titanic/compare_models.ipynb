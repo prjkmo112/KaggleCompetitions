{
 "cells": [
  {
   "cell_type": "markdown",
   "metadata": {},
   "source": [
    "# 모델 성능 비교\n",
    "\n",
    "- 대상 모델\n",
    "    1. Tensorflow - DeepLearning Model (activation함수가 sigmoid인 Dense Layer 여러개 구조) ([fst_try.ipynb 참고](./fst_try.ipynb))\n",
    "    2. Scikitlearn - LogisticRegression Model (로지스틱 회귀함수) ([sec_try.ipynb 참고](./sec_try.ipynb))\n",
    "    3. Tensorflow Decision Forest - tensorflow_decision_forest 모듈을 이용한 RandomForest 모델 사용 ([third_try.ipynb 참고](./third_try.ipynb))\n",
    "    4. Tensorflow Decision Forest - 위와 같이 tfdf 모듈을 사용했지만 지원하는 모델들을 모두 사용 ([fourth_try.ipynb 참고](./fourth_try.ipynb))<br><br>\n",
    "    \n",
    "- 한계점"
   ]
  },
  {
   "cell_type": "markdown",
   "metadata": {},
   "source": [
    "## Import Modules"
   ]
  },
  {
   "cell_type": "code",
   "execution_count": 1,
   "metadata": {},
   "outputs": [
    {
     "name": "stderr",
     "output_type": "stream",
     "text": [
      "2024-01-10 13:34:53.727266: I tensorflow/core/util/port.cc:113] oneDNN custom operations are on. You may see slightly different numerical results due to floating-point round-off errors from different computation orders. To turn them off, set the environment variable `TF_ENABLE_ONEDNN_OPTS=0`.\n",
      "2024-01-10 13:34:53.754394: E external/local_xla/xla/stream_executor/cuda/cuda_dnn.cc:9261] Unable to register cuDNN factory: Attempting to register factory for plugin cuDNN when one has already been registered\n",
      "2024-01-10 13:34:53.754429: E external/local_xla/xla/stream_executor/cuda/cuda_fft.cc:607] Unable to register cuFFT factory: Attempting to register factory for plugin cuFFT when one has already been registered\n",
      "2024-01-10 13:34:53.755061: E external/local_xla/xla/stream_executor/cuda/cuda_blas.cc:1515] Unable to register cuBLAS factory: Attempting to register factory for plugin cuBLAS when one has already been registered\n",
      "2024-01-10 13:34:53.760283: I tensorflow/core/platform/cpu_feature_guard.cc:182] This TensorFlow binary is optimized to use available CPU instructions in performance-critical operations.\n",
      "To enable the following instructions: AVX2 AVX512F AVX512_VNNI FMA, in other operations, rebuild TensorFlow with the appropriate compiler flags.\n",
      "2024-01-10 13:34:54.349484: W tensorflow/compiler/tf2tensorrt/utils/py_utils.cc:38] TF-TRT Warning: Could not find TensorRT\n"
     ]
    }
   ],
   "source": [
    "import os\n",
    "from zipfile import ZipFile\n",
    "from io import BytesIO\n",
    "import pandas as pd\n",
    "import pickle\n",
    "\n",
    "import tensorflow as tf\n",
    "from tensorflow.keras.models import load_model"
   ]
  },
  {
   "cell_type": "markdown",
   "metadata": {},
   "source": [
    "## Set Envs"
   ]
  },
  {
   "cell_type": "code",
   "execution_count": 2,
   "metadata": {},
   "outputs": [
    {
     "name": "stderr",
     "output_type": "stream",
     "text": [
      "2024-01-10 13:34:54.904503: I external/local_xla/xla/stream_executor/cuda/cuda_executor.cc:887] could not open file to read NUMA node: /sys/bus/pci/devices/0000:01:00.0/numa_node\n",
      "Your kernel may have been built without NUMA support.\n",
      "2024-01-10 13:34:54.925832: I external/local_xla/xla/stream_executor/cuda/cuda_executor.cc:887] could not open file to read NUMA node: /sys/bus/pci/devices/0000:01:00.0/numa_node\n",
      "Your kernel may have been built without NUMA support.\n",
      "2024-01-10 13:34:54.925873: I external/local_xla/xla/stream_executor/cuda/cuda_executor.cc:887] could not open file to read NUMA node: /sys/bus/pci/devices/0000:01:00.0/numa_node\n",
      "Your kernel may have been built without NUMA support.\n"
     ]
    }
   ],
   "source": [
    "file_key = '20240110_125949'\n",
    "PATH_OUT = f'./data/out/{file_key}/'\n",
    "PATH_DATA = f'./data/in/spaceship-titanic.zip'\n",
    "\n",
    "try:\n",
    "    os.environ[\"CUDA_VISIBLE_DEVICES\"] = \"0\"\n",
    "    gpus = tf.config.list_physical_devices('GPU')\n",
    "    tf.config.experimental.set_memory_growth(device=gpus[0], enable=True)\n",
    "    tf.config.set_logical_device_configuration(\n",
    "        gpus[0],\n",
    "        [tf.config.LogicalDeviceConfiguration(memory_limit=1024)]\n",
    "    )\n",
    "except:\n",
    "    print(\"NO GPU\")"
   ]
  },
  {
   "cell_type": "markdown",
   "metadata": {},
   "source": [
    "## Submit all model's Predictions"
   ]
  },
  {
   "cell_type": "code",
   "execution_count": 3,
   "metadata": {},
   "outputs": [
    {
     "name": "stdout",
     "output_type": "stream",
     "text": [
      "100%|██████████████████████████████████████| 56.5k/56.5k [00:01<00:00, 35.3kB/s]\n",
      "Successfully submitted to Spaceship Titanicpredict.csv submit success\n",
      "100%|██████████████████████████████████████| 56.2k/56.2k [00:02<00:00, 26.5kB/s]\n",
      "Successfully submitted to Spaceship Titanicpredict_scikit_logistic_regression.csv submit success\n",
      "100%|██████████████████████████████████████| 56.3k/56.3k [00:02<00:00, 26.9kB/s]\n",
      "Successfully submitted to Spaceship Titanicpredict_tfdf_CartModel.csv submit success\n",
      "100%|██████████████████████████████████████| 56.3k/56.3k [00:02<00:00, 27.5kB/s]\n",
      "Successfully submitted to Spaceship Titanicpredict_tfdf_GradientBoostedTreesModel.csv submit success\n",
      "100%|██████████████████████████████████████| 56.5k/56.5k [00:01<00:00, 33.9kB/s]\n",
      "Successfully submitted to Spaceship Titanicpredict_tfdf_RandomForestModel.csv submit success\n",
      "100%|██████████████████████████████████████| 56.5k/56.5k [00:01<00:00, 30.9kB/s]\n",
      "Successfully submitted to Spaceship Titanicpredict_tf_RandomForest.csv submit success\n"
     ]
    }
   ],
   "source": [
    "file_name_list = os.listdir(PATH_OUT+\"predict\")\n",
    "\n",
    "for file_name in file_name_list:\n",
    "    try:\n",
    "        path_file = os.path.join(PATH_OUT, \"predict\", file_name)\n",
    "        !kaggle competitions submit -c spaceship-titanic -f {path_file} -m \"2\"\n",
    "        print(f'{file_name} submit success')\n",
    "    except Exception as e:\n",
    "        print(f'{file_name} submit fail')"
   ]
  },
  {
   "cell_type": "markdown",
   "metadata": {},
   "source": [
    "## Compare Model"
   ]
  },
  {
   "cell_type": "markdown",
   "metadata": {},
   "source": [
    "predict_tf_RandomForest.csv\n",
    "Complete · now · 2\n",
    "**0.79307**\n",
    "\n",
    "predict_tfdf_RandomForestModel.csv\n",
    "Complete · 10s ago · 2\n",
    "**0.79307**\n",
    "\n",
    "predict_tfdf_GradientBoostedTreesModel.csv\n",
    "Complete · 14s ago · 2\n",
    "**0.80056**\n",
    "\n",
    "predict_tfdf_CartModel.csv\n",
    "Complete · 18s ago · 2\n",
    "**0.78092**\n",
    "\n",
    "predict_scikit_logistic_regression.csv\n",
    "Complete · 22s ago · 2\n",
    "**0.79728**\n",
    "\n",
    "predict.csv\n",
    "Complete · 26s ago · 2\n",
    "**0.78209**"
   ]
  }
 ],
 "metadata": {
  "kernelspec": {
   "display_name": "tfgpu",
   "language": "python",
   "name": "python3"
  },
  "language_info": {
   "codemirror_mode": {
    "name": "ipython",
    "version": 3
   },
   "file_extension": ".py",
   "mimetype": "text/x-python",
   "name": "python",
   "nbconvert_exporter": "python",
   "pygments_lexer": "ipython3",
   "version": "3.9.18"
  }
 },
 "nbformat": 4,
 "nbformat_minor": 2
}
